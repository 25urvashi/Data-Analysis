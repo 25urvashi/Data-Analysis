{
 "cells": [
  {
   "cell_type": "code",
   "execution_count": 1,
   "id": "6de95108",
   "metadata": {},
   "outputs": [
    {
     "name": "stdout",
     "output_type": "stream",
     "text": [
      "[  7  77  23 130]\n",
      "[  7  77  23 130]\n",
      "[  8  79  26 134]\n",
      "[  7  77  23 130]\n"
     ]
    }
   ],
   "source": [
    "import numpy as np\n",
    "\n",
    "# Defining both the matrices\n",
    "a = np.array([5, 72, 13, 100])\n",
    "b = np.array([2, 5, 10, 30])\n",
    "\n",
    "# Performing addition using arithmetic operator\n",
    "add_ans = a+b\n",
    "print(add_ans)\n",
    "\n",
    "# Performing addition using numpy function\n",
    "add_ans = np.add(a, b)\n",
    "print(add_ans)\n",
    "\n",
    "# The same functions and operations can be used for\n",
    "# multiple matrices\n",
    "c = np.array([1, 2, 3, 4])\n",
    "add_ans = a+b+c\n",
    "print(add_ans)\n",
    "\n",
    "add_ans = np.add(a, b, c)\n",
    "print(add_ans)\n"
   ]
  },
  {
   "cell_type": "code",
   "execution_count": 1,
   "id": "0b53d8e0",
   "metadata": {},
   "outputs": [
    {
     "name": "stdout",
     "output_type": "stream",
     "text": [
      "Matrix b : \n",
      " [1065353216 1065353216]\n",
      "\n",
      "Matrix a : \n",
      " [[ 1539280637  -679255586]\n",
      " [-1662321936 -1069819645]]\n",
      "\n",
      "Matrix c : \n",
      " [[0.00000000e+000 0.00000000e+000 0.00000000e+000]\n",
      " [0.00000000e+000 0.00000000e+000 3.59679790e-321]\n",
      " [9.57020102e-312 9.57020102e-312 0.00000000e+000]]\n"
     ]
    }
   ],
   "source": [
    "#using numpy empty function to generate random values of given type\n",
    "\n",
    "import numpy as np\n",
    "\n",
    "b = np.empty(2, dtype = int)\n",
    "print(\"Matrix b : \\n\", b)\n",
    "\n",
    "a = np.empty([2, 2], dtype = int)\n",
    "print(\"\\nMatrix a : \\n\", a)\n",
    "\n",
    "c = np.empty([3, 3])\n",
    "print(\"\\nMatrix c : \\n\", c)\n"
   ]
  },
  {
   "cell_type": "code",
   "execution_count": 4,
   "id": "8ff2013f",
   "metadata": {},
   "outputs": [
    {
     "name": "stdout",
     "output_type": "stream",
     "text": [
      "[ 3 67  3 70]\n",
      "[ 3 67  3 70]\n"
     ]
    }
   ],
   "source": [
    "import numpy as np\n",
    "\n",
    "# Defining both the matrices\n",
    "a = np.array([5, 72, 13, 100])\n",
    "b = np.array([2, 5, 10, 30])\n",
    "\n",
    "# Performing subtraction using arithmetic operator\n",
    "sub_ans = a-b\n",
    "print(sub_ans)\n",
    "\n",
    "# Performing subtraction using numpy function\n",
    "sub_ans = np.subtract(a, b)\n",
    "print(sub_ans)\n"
   ]
  }
 ],
 "metadata": {
  "kernelspec": {
   "display_name": "Python 3 (ipykernel)",
   "language": "python",
   "name": "python3"
  },
  "language_info": {
   "codemirror_mode": {
    "name": "ipython",
    "version": 3
   },
   "file_extension": ".py",
   "mimetype": "text/x-python",
   "name": "python",
   "nbconvert_exporter": "python",
   "pygments_lexer": "ipython3",
   "version": "3.10.9"
  }
 },
 "nbformat": 4,
 "nbformat_minor": 5
}
