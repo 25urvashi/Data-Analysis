{
 "cells": [
  {
   "cell_type": "code",
   "execution_count": 11,
   "metadata": {},
   "outputs": [
    {
     "name": "stdout",
     "output_type": "stream",
     "text": [
      "class B run\n",
      "class A function fun1 run\n",
      "class B function fun2 run\n"
     ]
    }
   ],
   "source": [
    "#single level inheritance\n",
    "\n",
    "class A:\n",
    "    def __init__(self):\n",
    "        print(\"class A run\")\n",
    "        \n",
    "    def fun1(self):\n",
    "        print(\"class A function fun1 run\")\n",
    "        \n",
    "        \n",
    "class B(A):\n",
    "    def __init__(self):\n",
    "        print(\"class B run\")\n",
    "        \n",
    "    def fun2(self):\n",
    "        print(\"class B function fun2 run\")\n",
    "                \n",
    "\n",
    "obj = B()\n",
    "obj.fun1()\n",
    "obj.fun2()\n"
   ]
  },
  {
   "cell_type": "code",
   "execution_count": 12,
   "metadata": {},
   "outputs": [
    {
     "name": "stdout",
     "output_type": "stream",
     "text": [
      "class C run\n",
      "class A function fun1 run\n",
      "class B function fun2 run\n",
      "class C function fun3 run\n"
     ]
    }
   ],
   "source": [
    "# multiple inheritance\n",
    "\n",
    "class A:\n",
    "    def __init__(self):\n",
    "        print(\"class A run\")\n",
    "        \n",
    "    def fun1(self):\n",
    "        print(\"class A function fun1 run\")\n",
    "        \n",
    "        \n",
    "class B:\n",
    "    def __init__(self):\n",
    "        print(\"class B run\")\n",
    "        \n",
    "    def fun2(self):\n",
    "        print(\"class B function fun2 run\")\n",
    "        \n",
    "        \n",
    "class C(A,B):\n",
    "    def __init__(self):\n",
    "        print(\"class C run\")\n",
    "        \n",
    "    def fun3(self):\n",
    "        print(\"class C function fun3 run\")\n",
    "        \n",
    "\n",
    "obj = C()\n",
    "obj.fun1()\n",
    "obj.fun2()\n",
    "obj.fun3()\n"
   ]
  },
  {
   "cell_type": "code",
   "execution_count": 13,
   "metadata": {},
   "outputs": [
    {
     "name": "stdout",
     "output_type": "stream",
     "text": [
      "class C run\n",
      "class A function fun1 run\n",
      "class B function fun2 run\n",
      "class C function fun3 run\n"
     ]
    }
   ],
   "source": [
    "# multi level inheritance\n",
    "\n",
    "class A:\n",
    "    def __init__(self):\n",
    "        print(\"class A run\")\n",
    "        \n",
    "    def fun1(self):\n",
    "        print(\"class A function fun1 run\")\n",
    "        \n",
    "        \n",
    "class B(A):\n",
    "    def __init__(self):\n",
    "        print(\"class B run\")\n",
    "        \n",
    "    def fun2(self):\n",
    "        print(\"class B function fun2 run\")\n",
    "        \n",
    "class C(B):\n",
    "    def __init__(self):\n",
    "        print(\"class C run\")\n",
    "        \n",
    "    def fun3(self):\n",
    "        print(\"class C function fun3 run\")\n",
    "        \n",
    "\n",
    "obj = C()\n",
    "obj.fun1()\n",
    "obj.fun2()\n",
    "obj.fun3()\n"
   ]
  },
  {
   "cell_type": "code",
   "execution_count": 14,
   "metadata": {},
   "outputs": [
    {
     "name": "stdout",
     "output_type": "stream",
     "text": [
      "class B run\n",
      "class C run\n",
      "class A function fun1 run\n",
      "class B function fun2 run\n",
      "class A function fun1 run\n",
      "class C function fun3 run\n"
     ]
    }
   ],
   "source": [
    "# hirarchical inheritance\n",
    "\n",
    "class A:\n",
    "    def __init__(self):\n",
    "        print(\"class A run\")\n",
    "        \n",
    "    def fun1(self):\n",
    "        print(\"class A function fun1 run\")\n",
    "        \n",
    "        \n",
    "class B(A):\n",
    "    def __init__(self):\n",
    "        print(\"class B run\")\n",
    "        \n",
    "    def fun2(self):\n",
    "        print(\"class B function fun2 run\")\n",
    "        \n",
    "class C(A):\n",
    "    def __init__(self):\n",
    "        print(\"class C run\")\n",
    "        \n",
    "    def fun3(self):\n",
    "        print(\"class C function fun3 run\")\n",
    "        \n",
    "\n",
    "obj1 = B()\n",
    "obj2 = C()\n",
    "\n",
    "obj1.fun1()\n",
    "obj1.fun2()\n",
    "\n",
    "obj2.fun1()\n",
    "obj2.fun3()\n"
   ]
  }
 ],
 "metadata": {
  "kernelspec": {
   "display_name": "Python 3 (ipykernel)",
   "language": "python",
   "name": "python3"
  },
  "language_info": {
   "codemirror_mode": {
    "name": "ipython",
    "version": 3
   },
   "file_extension": ".py",
   "mimetype": "text/x-python",
   "name": "python",
   "nbconvert_exporter": "python",
   "pygments_lexer": "ipython3",
   "version": "3.10.9"
  }
 },
 "nbformat": 4,
 "nbformat_minor": 2
}
