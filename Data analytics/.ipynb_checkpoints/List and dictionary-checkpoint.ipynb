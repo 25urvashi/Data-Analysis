{
 "cells": [
  {
   "cell_type": "code",
   "execution_count": 34,
   "metadata": {},
   "outputs": [
    {
     "name": "stdout",
     "output_type": "stream",
     "text": [
      "dict['Name']:  zara\n",
      "dict['Age']: 7\n"
     ]
    }
   ],
   "source": [
    "dict={'Name':'zara','age':7,'class':'first'};\n",
    "print (\"dict['Name']: \", dict['Name']);\n",
    "print (\"dict['Age']:\" , dict['age']);\n"
   ]
  },
  {
   "cell_type": "code",
   "execution_count": 30,
   "metadata": {},
   "outputs": [
    {
     "name": "stdout",
     "output_type": "stream",
     "text": [
      "['physics', 'chemistry', 1997]\n",
      "[2, 3]\n",
      "5\n",
      "5\n",
      "1\n",
      "['physics', 'chemistry', 1997, 2000]\n",
      "['physics', 'chemistry', 1997]\n"
     ]
    }
   ],
   "source": [
    "list1 = ['physics','chemistry',1997,2000];\n",
    "list2 = [1,2,3,4,5];\n",
    "list3 = [\"a\",\"b\",\"c\",\"d\"];\n",
    "print(list1[0:3])\n",
    "print(list2[1:3])\n",
    "\n",
    "print(len(list2))\n",
    "print(max(list2))\n",
    "print(min(list2))\n",
    "\n",
    "print(list1)\n",
    "list1.pop()\n",
    "print(list1)\n",
    "\n",
    "\n",
    "\n"
   ]
  },
  {
   "cell_type": "code",
   "execution_count": null,
   "metadata": {},
   "outputs": [],
   "source": [
    "-"
   ]
  }
 ],
 "metadata": {
  "kernelspec": {
   "display_name": "Python 3 (ipykernel)",
   "language": "python",
   "name": "python3"
  },
  "language_info": {
   "codemirror_mode": {
    "name": "ipython",
    "version": 3
   },
   "file_extension": ".py",
   "mimetype": "text/x-python",
   "name": "python",
   "nbconvert_exporter": "python",
   "pygments_lexer": "ipython3",
   "version": "3.10.9"
  }
 },
 "nbformat": 4,
 "nbformat_minor": 2
}
