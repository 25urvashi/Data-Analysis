{
 "cells": [
  {
   "cell_type": "code",
   "execution_count": 3,
   "metadata": {},
   "outputs": [
    {
     "name": "stdout",
     "output_type": "stream",
     "text": [
      "c    3\n",
      "d    4\n",
      "e    5\n",
      "dtype: int64\n"
     ]
    }
   ],
   "source": [
    "#retriving series elements using index\n",
    "import pandas as pd\n",
    "\n",
    "s=pd.Series([1,2,3,4,5],index=['a','b','c','d','e'])\n",
    "\n",
    "#retrieve the last three element\n",
    "print (s[-3:])\n"
   ]
  },
  {
   "cell_type": "code",
   "execution_count": 5,
   "metadata": {},
   "outputs": [
    {
     "name": "stdout",
     "output_type": "stream",
     "text": [
      "1 2 5\n",
      "6\n"
     ]
    }
   ],
   "source": [
    "import pandas as pd\n",
    "\n",
    "s=pd.Series([1,2,3,4,5],index=['a','b','c','d','e'])\n",
    "\n",
    "#retrieve a single element using lable(index)\n",
    "print (s['a'],s['b'],s['e'])\n",
    "\n",
    "#adding two elements \n",
    "print (s['a']+s['e'])"
   ]
  },
  {
   "cell_type": "code",
   "execution_count": 10,
   "metadata": {},
   "outputs": [
    {
     "name": "stdout",
     "output_type": "stream",
     "text": [
      "a    1\n",
      "b    2\n",
      "c    3\n",
      "d    4\n",
      "e    5\n",
      "dtype: int64\n",
      "a    1\n",
      "c    3\n",
      "d    4\n",
      "dtype: int64\n"
     ]
    }
   ],
   "source": [
    "import pandas as pd\n",
    "\n",
    "s=pd.Series([1,2,3,4,5],index=['a','b','c','d','e'])\n",
    "\n",
    "print(s)\n",
    "\n",
    "#retrive multiple elements using a list of index lable values\n",
    "print(s[['a','c','d']])\n",
    "\n"
   ]
  },
  {
   "cell_type": "code",
   "execution_count": 9,
   "metadata": {},
   "outputs": [
    {
     "name": "stdout",
     "output_type": "stream",
     "text": [
      "     name  age\n",
      "0    alex   10\n",
      "1     bob   12\n",
      "2  clarke   13\n"
     ]
    }
   ],
   "source": [
    "#giving column names dataframe\n",
    "\n",
    "import pandas as pd\n",
    "data = [['alex',10],['bob',12],['clarke',13]]\n",
    "df = pd.DataFrame(data,columns=['name','age'])\n",
    "print (df)\n"
   ]
  },
  {
   "cell_type": "code",
   "execution_count": 13,
   "metadata": {},
   "outputs": [
    {
     "name": "stdout",
     "output_type": "stream",
     "text": [
      "    name  age\n",
      "0    tom   28\n",
      "1   jack   34\n",
      "2  steve   29\n",
      "3  ricky   42\n"
     ]
    }
   ],
   "source": [
    "#giving column to dataframe\n",
    "import pandas as pd\n",
    "data={'name':['tom','jack','steve','ricky'], 'age':[28,34,29,42]}\n",
    "df = pd.DataFrame(data)\n",
    "print(df)\n"
   ]
  },
  {
   "cell_type": "code",
   "execution_count": 15,
   "metadata": {},
   "outputs": [
    {
     "name": "stdout",
     "output_type": "stream",
     "text": [
      "        name  age\n",
      "rank1    tom   28\n",
      "rank2   jack   34\n",
      "rank3  steve   29\n",
      "rank4  ricky   42\n"
     ]
    }
   ],
   "source": [
    "#custom index and column in dataframe\n",
    "import pandas as pd\n",
    "data={'name':['tom','jack','steve','ricky'], 'age':[28,34,29,42]}\n",
    "df = pd.DataFrame(data,index=['rank1','rank2','rank3','rank4'])\n",
    "print(df)\n"
   ]
  },
  {
   "cell_type": "code",
   "execution_count": 16,
   "metadata": {},
   "outputs": [
    {
     "name": "stdout",
     "output_type": "stream",
     "text": [
      "   a   b     c\n",
      "0  1   2   NaN\n",
      "1  5  10  20.0\n"
     ]
    }
   ],
   "source": [
    "# to create dataframe by passing a list of dictionaries\n",
    "import pandas as pd\n",
    "data = [{'a':1,'b':2,},{'a':5,'b':10,'c':20}]\n",
    "df = pd.DataFrame(data)\n",
    "print(df)"
   ]
  },
  {
   "cell_type": "code",
   "execution_count": 17,
   "metadata": {},
   "outputs": [
    {
     "name": "stdout",
     "output_type": "stream",
     "text": [
      "        a   b     c\n",
      "first   1   2   NaN\n",
      "second  5  10  20.0\n"
     ]
    }
   ],
   "source": [
    "#custom index to dataframe created by passing a list of dictionaries\n",
    "import pandas as pd\n",
    "data = [{'a':1,'b':2},{'a':5, 'b':10, 'c':20}]\n",
    "df = pd.DataFrame(data,index=['first','second'])\n",
    "print (df)"
   ]
  },
  {
   "cell_type": "code",
   "execution_count": 18,
   "metadata": {},
   "outputs": [
    {
     "name": "stdout",
     "output_type": "stream",
     "text": [
      "        a   b\n",
      "first   1   2\n",
      "second  5  10\n",
      "\n",
      "\n",
      "        a     c\n",
      "first   1   NaN\n",
      "second  5  20.0\n"
     ]
    }
   ],
   "source": [
    "#custom index and column to dataframe created by passing a list of dictionaries\n",
    "\n",
    "import pandas as pd\n",
    "data= [{'a':1,'b':2}, {'a':5,'b':10,'c':20}]\n",
    "\n",
    "df1 =pd.DataFrame(data, index=['first','second'],columns=['a','b'])\n",
    "df2 =pd.DataFrame(data, index=['first','second'],columns=['a','c'])\n",
    "\n",
    "print(df1)\n",
    "print(\"\\n\")\n",
    "print(df2)\n"
   ]
  },
  {
   "cell_type": "code",
   "execution_count": 20,
   "metadata": {},
   "outputs": [
    {
     "name": "stdout",
     "output_type": "stream",
     "text": [
      "a    1.0\n",
      "b    2.0\n",
      "c    3.0\n",
      "d    NaN\n",
      "Name: one, dtype: float64\n"
     ]
    }
   ],
   "source": [
    "# creating series within dictionay\n",
    "\n",
    "import pandas as pd\n",
    "d={'one':pd.Series([1,2,3],index=['a','b','c']), 'two':pd.Series([1,2,3,4],index=['a','b','c','d'])}\n",
    "df = pd.DataFrame(d)\n",
    "print(df['one'])"
   ]
  },
  {
   "cell_type": "code",
   "execution_count": 22,
   "metadata": {},
   "outputs": [
    {
     "name": "stdout",
     "output_type": "stream",
     "text": [
      "adding a new column by passing as series:\n",
      "   one  two  three\n",
      "a  1.0    1   10.0\n",
      "b  2.0    2   20.0\n",
      "c  3.0    3   30.0\n",
      "d  NaN    4    NaN\n",
      "adding a new column using the existing columns in dataframe:\n",
      "   one  two  three  four\n",
      "a  1.0    1   10.0  11.0\n",
      "b  2.0    2   20.0  22.0\n",
      "c  3.0    3   30.0  33.0\n",
      "d  NaN    4    NaN   NaN\n"
     ]
    }
   ],
   "source": [
    "# adding a column using existing dataframe\n",
    "\n",
    "import pandas as pd\n",
    "d={'one':pd.Series([1,2,3],index=['a','b','c']), 'two':pd.Series([1,2,3,4],index=['a','b','c','d'])}\n",
    "df = pd.DataFrame(d)\n",
    "\n",
    "print(\"adding a new column by passing as series:\")\n",
    "df['three']=pd.Series([10,20,30],index=['a','b','c'])\n",
    "print(df)\n",
    "print(\"adding a new column using the existing columns in dataframe:\")\n",
    "df['four']=df['one']+df['three']\n",
    "print(df)"
   ]
  },
  {
   "cell_type": "code",
   "execution_count": 24,
   "metadata": {},
   "outputs": [
    {
     "name": "stdout",
     "output_type": "stream",
     "text": [
      "adding a new column by passing as series:\n",
      "   one  two  three\n",
      "a  1.0    1   10.0\n",
      "b  2.0    2   20.0\n",
      "c  3.0    3   30.0\n",
      "d  NaN    4    NaN\n",
      "adding a new column using the existing columns in dataframe:\n",
      "   one  two  three  four\n",
      "a  1.0    1   10.0  11.0\n",
      "b  2.0    2   20.0  22.0\n",
      "c  3.0    3   30.0  33.0\n",
      "d  NaN    4    NaN   NaN\n",
      "deleting column one\n",
      "   two  three  four\n",
      "a    1   10.0  11.0\n",
      "b    2   20.0  22.0\n",
      "c    3   30.0  33.0\n",
      "d    4    NaN   NaN\n",
      "deleting column two\n",
      "   three  four\n",
      "a   10.0  11.0\n",
      "b   20.0  22.0\n",
      "c   30.0  33.0\n",
      "d    NaN   NaN\n"
     ]
    }
   ],
   "source": [
    "# using 'del' for deleting columns\n",
    "\n",
    "import pandas as pd\n",
    "d={'one':pd.Series([1,2,3],index=['a','b','c']), 'two':pd.Series([1,2,3,4],index=['a','b','c','d'])}\n",
    "df = pd.DataFrame(d)\n",
    "\n",
    "print(\"adding a new column by passing as series:\")\n",
    "df['three']=pd.Series([10,20,30],index=['a','b','c'])\n",
    "print(df)\n",
    "print(\"adding a new column using the existing columns in dataframe:\")\n",
    "df['four']=df['one']+df['three']\n",
    "print(df)\n",
    "print(\"deleting column one\")\n",
    "del df['one']\n",
    "print (df)\n",
    "print(\"deleting column two\")\n",
    "del df['two']\n",
    "print (df)\n"
   ]
  },
  {
   "cell_type": "code",
   "execution_count": 25,
   "metadata": {},
   "outputs": [
    {
     "name": "stdout",
     "output_type": "stream",
     "text": [
      "three    20.0\n",
      "four     22.0\n",
      "Name: b, dtype: float64\n"
     ]
    }
   ],
   "source": [
    "# loc function\n",
    "import pandas as pd\n",
    "d= {'one':pd.Series([1,2,3],index=['a','b','c']),'two':pd.Series([1,2,3,4],index=['a','b','c','d'])}\n",
    "print (df.loc['b'])\n",
    "#rows can be selected by passing integer location to an loc function"
   ]
  },
  {
   "cell_type": "code",
   "execution_count": 27,
   "metadata": {},
   "outputs": [
    {
     "name": "stdout",
     "output_type": "stream",
     "text": [
      "   one  two\n",
      "c  3.0    3\n",
      "d  NaN    4\n"
     ]
    }
   ],
   "source": [
    "# ':' operand for selecting multiple rows\n",
    "import pandas as pd\n",
    "d = {'one':pd.Series([1,2,3],index=['a','b','c']),\n",
    "    'two':pd.Series([1,2,3,4],index=['a','b','c','d'])}\n",
    "df = pd.DataFrame(d)\n",
    "print(df[2:4])\n",
    "# multiple rows can be selected using':' operator\n"
   ]
  },
  {
   "cell_type": "code",
   "execution_count": 29,
   "metadata": {},
   "outputs": [
    {
     "name": "stdout",
     "output_type": "stream",
     "text": [
      "   a  b\n",
      "0  1  2\n",
      "1  3  4\n",
      "0  5  6\n",
      "1  7  8 \n",
      "\n",
      "   a  b\n",
      "1  3  4\n",
      "1  7  8\n"
     ]
    }
   ],
   "source": [
    "# drop function\n",
    "\n",
    "import pandas as pd\n",
    "df = pd.DataFrame([[1,2],[3,4]], columns=['a','b'])\n",
    "df2 = pd.DataFrame([[5,6],[7,8]], columns=['a','b'])\n",
    "df = df.append(df2)\n",
    "\n",
    "print(df, \"\\n\")\n",
    "# drop rows with lable 0\n",
    "df = df.drop(0)\n",
    "print(df)\n"
   ]
  }
 ],
 "metadata": {
  "kernelspec": {
   "display_name": "Python 3 (ipykernel)",
   "language": "python",
   "name": "python3"
  },
  "language_info": {
   "codemirror_mode": {
    "name": "ipython",
    "version": 3
   },
   "file_extension": ".py",
   "mimetype": "text/x-python",
   "name": "python",
   "nbconvert_exporter": "python",
   "pygments_lexer": "ipython3",
   "version": "3.10.9"
  }
 },
 "nbformat": 4,
 "nbformat_minor": 2
}
