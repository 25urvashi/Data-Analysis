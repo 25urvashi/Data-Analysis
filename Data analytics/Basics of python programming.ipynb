{
 "cells": [
  {
   "cell_type": "code",
   "execution_count": 1,
   "id": "318355ad",
   "metadata": {},
   "outputs": [
    {
     "name": "stdout",
     "output_type": "stream",
     "text": [
      "hello world\n"
     ]
    }
   ],
   "source": [
    "# printing hello world \n",
    "\n",
    "print ('hello world')"
   ]
  },
  {
   "cell_type": "code",
   "execution_count": 1,
   "id": "f80da57e",
   "metadata": {},
   "outputs": [
    {
     "name": "stdout",
     "output_type": "stream",
     "text": [
      "addition is 40\n",
      "subtraction is -20\n"
     ]
    }
   ],
   "source": [
    "# basic program in python\n",
    "\n",
    "a=10\n",
    "b=30\n",
    "\n",
    "c=a+b\n",
    "print('addition is',c)\n",
    "\n",
    "c=a-b\n",
    "print('subtraction is',c)\n"
   ]
  },
  {
   "cell_type": "code",
   "execution_count": 2,
   "id": "740d6486",
   "metadata": {},
   "outputs": [
    {
     "name": "stdout",
     "output_type": "stream",
     "text": [
      "Line 2 - Value of c is  -100\n",
      "Line 3 - Value of c is  20000\n",
      "Line 4 - Value of c is  0.5\n",
      "Line 5 - Value of c is  100\n",
      "Line 6 - Value of c is  8\n",
      "Line 7 - Value of c is  2\n"
     ]
    }
   ],
   "source": [
    "# arithmatic operators\n",
    "\n",
    "a=100\n",
    "b=200\n",
    "\n",
    "c=a-b\n",
    "print (\"Line 2 - Value of c is \", c )\n",
    "c=a*b\n",
    "print (\"Line 3 - Value of c is \", c)\n",
    "c=a/b\n",
    "print (\"Line 4 - Value of c is \", c )\n",
    "c=a%b\n",
    "print (\"Line 5 - Value of c is \", c)\n",
    "\n",
    "a=2\n",
    "b=3\n",
    "\n",
    "c = a**b\n",
    "print (\"Line 6 - Value of c is \", c)\n",
    "\n",
    "a = 10\n",
    "b=5\n",
    "\n",
    "c = a//b\n",
    "print (\"Line 7 - Value of c is \", c)"
   ]
  },
  {
   "cell_type": "code",
   "execution_count": 6,
   "id": "c292962d",
   "metadata": {},
   "outputs": [
    {
     "name": "stdout",
     "output_type": "stream",
     "text": [
      "False\n",
      "True\n",
      "False\n",
      "True\n"
     ]
    }
   ],
   "source": [
    "#comparison operators\n",
    "\n",
    "a = 10\n",
    "b = 20\n",
    "\n",
    "print(a==b)\n",
    "print(a<=b)\n",
    "print(a>=b)\n",
    "print(a!=b)\n"
   ]
  },
  {
   "cell_type": "code",
   "execution_count": 13,
   "id": "e45a35e7",
   "metadata": {},
   "outputs": [
    {
     "name": "stdout",
     "output_type": "stream",
     "text": [
      "-20.0\n",
      "-400.0\n",
      "-20.0\n",
      "0.0\n",
      "0.0\n",
      "0.0\n"
     ]
    }
   ],
   "source": [
    "# assignment operators\n",
    "\n",
    "a-=b\n",
    "print (a)\n",
    "a*=b\n",
    "print (a)\n",
    "a/=b\n",
    "print (a)\n",
    "a%=b\n",
    "print (a)\n",
    "a**=b\n",
    "print(a)\n",
    "a//=b\n",
    "print (a)"
   ]
  },
  {
   "cell_type": "code",
   "execution_count": 3,
   "id": "97fcb1a5",
   "metadata": {},
   "outputs": [
    {
     "name": "stdout",
     "output_type": "stream",
     "text": [
      "a= 60 : 0b111100 b= 13 : 0b1101\n",
      "result of AND is: 0b1100\n",
      "result of Or is: 0b111101\n",
      "0b110001\n",
      "-0b111101\n",
      "0b11110000\n",
      "result is 0b1111\n"
     ]
    }
   ],
   "source": [
    "# bitwise operators\n",
    "\n",
    "a=60              # 60 = 0011 1100\n",
    "b=13              # 13 = 0000 1101\n",
    "print('a=',a,':',bin(a),'b=',b,':',bin(b))\n",
    "c=0\n",
    "\n",
    "c=a&b             # 12 = 0000 1100\n",
    "print('result of AND is:',bin(c))\n",
    "\n",
    "c=a|b             \n",
    "print('result of Or is:',bin(c))\n",
    "\n",
    "c=a^b             # 49 = 0011 0001\n",
    "print(bin(c))\n",
    "\n",
    "c=~a              #-61 = 1100 0011\n",
    "print(bin(c))\n",
    "\n",
    "c=a<<2            # 240 = 1111 0000\n",
    "print(bin(c))\n",
    "\n",
    "c=a>>2            # 15 = 0000 1111\n",
    "print('result is',bin(c))"
   ]
  },
  {
   "cell_type": "code",
   "execution_count": 19,
   "id": "0f4d5b57",
   "metadata": {},
   "outputs": [
    {
     "name": "stdout",
     "output_type": "stream",
     "text": [
      "20\n",
      "10\n",
      "False\n",
      "False\n"
     ]
    }
   ],
   "source": [
    "#logical operators\n",
    "\n",
    "a=10\n",
    "b=20\n",
    "print(a and b)\n",
    "print(a or b)\n",
    "print(not a)\n",
    "print(not b)"
   ]
  },
  {
   "cell_type": "code",
   "execution_count": 20,
   "id": "a116accf",
   "metadata": {},
   "outputs": [
    {
     "name": "stdout",
     "output_type": "stream",
     "text": [
      "The count is: 0\n",
      "The count is: 1\n",
      "The count is: 2\n",
      "The count is: 3\n",
      "The count is: 4\n",
      "The count is: 5\n",
      "The count is: 6\n",
      "The count is: 7\n",
      "The count is: 8\n",
      "Good bye!\n"
     ]
    }
   ],
   "source": [
    "#while loop\n",
    "\n",
    "count = 0\n",
    "while (count < 9):\n",
    "    print ('The count is:', count) \n",
    "    count = count + 1\n",
    "print (\"Good bye!\")"
   ]
  },
  {
   "cell_type": "code",
   "execution_count": 1,
   "id": "a82db0b6",
   "metadata": {},
   "outputs": [
    {
     "data": {
      "text/plain": [
       "3"
      ]
     },
     "execution_count": 1,
     "metadata": {},
     "output_type": "execute_result"
    }
   ],
   "source": [
    "# function in python\n",
    "\n",
    "def fun1(a,b):\n",
    "    c=a+b\n",
    "    return(c)\n",
    "fun1(1,2)\n",
    "\n"
   ]
  },
  {
   "cell_type": "code",
   "execution_count": 9,
   "id": "90b8a8fa",
   "metadata": {},
   "outputs": [
    {
     "ename": "TypeError",
     "evalue": "pc1.fun1() takes 2 positional arguments but 3 were given",
     "output_type": "error",
     "traceback": [
      "\u001b[1;31m---------------------------------------------------------------------------\u001b[0m",
      "\u001b[1;31mTypeError\u001b[0m                                 Traceback (most recent call last)",
      "Cell \u001b[1;32mIn[9], line 8\u001b[0m\n\u001b[0;32m      6\u001b[0m         \u001b[38;5;28;01mreturn\u001b[39;00m(c)\n\u001b[0;32m      7\u001b[0m obj1 \u001b[38;5;241m=\u001b[39m pc1()\n\u001b[1;32m----> 8\u001b[0m \u001b[38;5;28mprint\u001b[39m(\u001b[43mobj1\u001b[49m\u001b[38;5;241;43m.\u001b[39;49m\u001b[43mfun1\u001b[49m\u001b[43m(\u001b[49m\u001b[38;5;241;43m1\u001b[39;49m\u001b[43m,\u001b[49m\u001b[38;5;241;43m2\u001b[39;49m\u001b[43m)\u001b[49m)\n",
      "\u001b[1;31mTypeError\u001b[0m: pc1.fun1() takes 2 positional arguments but 3 were given"
     ]
    }
   ],
   "source": [
    "# class in python\n",
    "\n",
    "class pc1:\n",
    "    def fun1(a,b):\n",
    "        c=a+b\n",
    "        return(c)\n",
    "obj1 = pc1()\n",
    "print(obj1.fun1(1,2))\n",
    "\n",
    "    "
   ]
  },
  {
   "cell_type": "code",
   "execution_count": 10,
   "id": "37426625",
   "metadata": {},
   "outputs": [
    {
     "name": "stdout",
     "output_type": "stream",
     "text": [
      "2\n",
      "200\n",
      "2000\n"
     ]
    }
   ],
   "source": [
    "#local and global variables \n",
    "\n",
    "a=2000 #global\n",
    "class pc1:\n",
    "    a=200 # class or local\n",
    "    n=\"urvi\"\n",
    "    def fun2(self,a,b):\n",
    "        a=2\n",
    "        ca = a+b\n",
    "        return a\n",
    "\n",
    "obj1 = pc1()\n",
    "print(obj1.fun2(20,40))\n",
    "print(obj1.a)\n",
    "print(a)\n",
    "\n"
   ]
  },
  {
   "cell_type": "code",
   "execution_count": 5,
   "id": "6a504a26",
   "metadata": {},
   "outputs": [],
   "source": [
    "#employee program\n",
    "\n",
    "class Employee:\n",
    "    \n",
    "    def setName (empName):\n",
    "        name=empName\n",
    "        \n",
    "    def setSal (empSal):\n",
    "        salary=empSal\n",
    "        \n",
    "    def printEmp():\n",
    "        print('name:',name)\n",
    "        print('salary:',salary)\n",
    "        \n",
    "obj1= Employee()\n",
    "obj1.setName()\n",
    "obj1.setSal()\n",
    "#obj1.printEmp()\n",
    "        "
   ]
  }
 ],
 "metadata": {
  "kernelspec": {
   "display_name": "Python 3 (ipykernel)",
   "language": "python",
   "name": "python3"
  },
  "language_info": {
   "codemirror_mode": {
    "name": "ipython",
    "version": 3
   },
   "file_extension": ".py",
   "mimetype": "text/x-python",
   "name": "python",
   "nbconvert_exporter": "python",
   "pygments_lexer": "ipython3",
   "version": "3.10.9"
  }
 },
 "nbformat": 4,
 "nbformat_minor": 5
}
